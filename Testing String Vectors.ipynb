{
 "metadata": {
  "name": "",
  "signature": "sha256:5f7947b22b007c78f549157ebc06947f5a365c674fdbb513b07529ec6398689c"
 },
 "nbformat": 3,
 "nbformat_minor": 0,
 "worksheets": [
  {
   "cells": [
    {
     "cell_type": "code",
     "collapsed": false,
     "input": [
      "#import some standard libraries\n",
      "\n",
      "import matplotlib.pyplot as plt\n",
      "%matplotlib inline\n",
      "import numpy as np\n",
      "import pandas as pd\n",
      "from pandas import Series, DataFrame\n",
      "from sklearn import datasets, svm\n",
      "from patsy import dmatrices\n",
      "import statsmodels.api as sm\n",
      "%pylab inline"
     ],
     "language": "python",
     "metadata": {},
     "outputs": [
      {
       "output_type": "stream",
       "stream": "stdout",
       "text": [
        "Populating the interactive namespace from numpy and matplotlib\n"
       ]
      }
     ],
     "prompt_number": 1
    },
    {
     "cell_type": "code",
     "collapsed": false,
     "input": [
      "#Windows Path\n",
      "df = pd.read_csv(\"E:\\\\Dropbox\\\\Kaggle\\\\HIV\\\\training_data.csv\")\n",
      "#OSX Path\n",
      "#df = pd.read_csv(\"/Users/brandon/Dropbox/Kaggle/HIV/training_data.csv\")\n"
     ],
     "language": "python",
     "metadata": {},
     "outputs": [],
     "prompt_number": 2
    },
    {
     "cell_type": "code",
     "collapsed": false,
     "input": [
      "#dictionary\n",
      "dict_1 = {'A' : 1, 'B' : 2, 'C' : 3}"
     ],
     "language": "python",
     "metadata": {},
     "outputs": [],
     "prompt_number": 15
    },
    {
     "cell_type": "code",
     "collapsed": false,
     "input": [
      "dict_1['A']"
     ],
     "language": "python",
     "metadata": {},
     "outputs": [
      {
       "metadata": {},
       "output_type": "pyout",
       "prompt_number": 16,
       "text": [
        "1"
       ]
      }
     ],
     "prompt_number": 16
    },
    {
     "cell_type": "code",
     "collapsed": false,
     "input": [
      "test_string =\"CCABAAACA\"\n",
      "replacement_str = \"\"\n",
      "\n",
      "for i,c in enumerate(test_string):\n",
      "    letter = c\n",
      "    replacement_str = replacement_str + str(dict_1[letter]) +','"
     ],
     "language": "python",
     "metadata": {},
     "outputs": [],
     "prompt_number": 29
    },
    {
     "cell_type": "code",
     "collapsed": false,
     "input": [
      "print replacement_str"
     ],
     "language": "python",
     "metadata": {},
     "outputs": [
      {
       "output_type": "stream",
       "stream": "stdout",
       "text": [
        "3,3,1,2,1,1,1,3,1,\n"
       ]
      }
     ],
     "prompt_number": 30
    },
    {
     "cell_type": "code",
     "collapsed": false,
     "input": [],
     "language": "python",
     "metadata": {},
     "outputs": []
    }
   ],
   "metadata": {}
  }
 ]
}