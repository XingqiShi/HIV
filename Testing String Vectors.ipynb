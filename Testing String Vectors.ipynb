{
 "metadata": {
  "name": "",
  "signature": "sha256:5f2d3e431061292f9ee90bc15582e76afd33db84e527f8fe5bade113b7542bfb"
 },
 "nbformat": 3,
 "nbformat_minor": 0,
 "worksheets": [
  {
   "cells": [
    {
     "cell_type": "code",
     "collapsed": false,
     "input": [
      "#import some standard libraries\n",
      "\n",
      "import matplotlib.pyplot as plt\n",
      "%matplotlib inline\n",
      "import numpy as np\n",
      "import pandas as pd\n",
      "from pandas import Series, DataFrame\n",
      "from sklearn import datasets, svm\n",
      "from patsy import dmatrices\n",
      "import statsmodels.api as sm\n",
      "%pylab inline"
     ],
     "language": "python",
     "metadata": {},
     "outputs": [
      {
       "output_type": "stream",
       "stream": "stdout",
       "text": [
        "Populating the interactive namespace from numpy and matplotlib\n"
       ]
      }
     ],
     "prompt_number": 1
    },
    {
     "cell_type": "code",
     "collapsed": false,
     "input": [
      "#Windows Path\n",
      "#df = pd.read_csv(\"E:\\\\Dropbox\\\\Kaggle\\\\HIV\\\\training_data.csv\")\n",
      "#OSX Path\n",
      "df = pd.read_csv(\"/Users/brandon/Dropbox/Kaggle/HIV/training_data.csv\")\n"
     ],
     "language": "python",
     "metadata": {},
     "outputs": [],
     "prompt_number": 122
    },
    {
     "cell_type": "code",
     "collapsed": false,
     "input": [
      "#dictionary\n",
      "#dict_1 = {'A' : 1, 'B' : 2, 'C' : 3}\n",
      "\n",
      "\n",
      "\n",
      "aa_dictionary = { 'A' : 1, 'B' : 2, 'C' : 3, 'D' : 4, 'E' : 5, 'F' : 6, 'G' : 7, 'H' : 8,\n",
      "                 'I' : 9, 'K' : 10, 'L' : 11, 'M' : 12, 'N' : 13, 'P' : 14, 'Q' : 15, 'R' : 16,\n",
      "                 'S' : 17, 'T' : 18, 'V' : 19, 'X' : 20, 'W' : 21, 'Y' : 22, 'Z' : 23 }\n",
      "\n",
      "print aa_dictionary"
     ],
     "language": "python",
     "metadata": {},
     "outputs": [
      {
       "output_type": "stream",
       "stream": "stdout",
       "text": [
        "{'A': 1, 'C': 3, 'B': 2, 'E': 5, 'D': 4, 'G': 7, 'F': 6, 'I': 9, 'H': 8, 'K': 10, 'M': 12, 'L': 11, 'N': 13, 'Q': 15, 'P': 14, 'S': 17, 'R': 16, 'T': 18, 'W': 21, 'V': 19, 'Y': 22, 'X': 20, 'Z': 23}\n"
       ]
      }
     ],
     "prompt_number": 123
    },
    {
     "cell_type": "code",
     "collapsed": false,
     "input": [
      "test_string =\"CCATAAACA\"\n",
      "encoded_string = \"\"\n",
      "\n",
      "for i,c in enumerate(test_string):\n",
      "    letter = c\n",
      "    encoded_string = encoded_string + str(aa_dictionary[letter]) +','\n",
      "\n",
      "encoded_string = encoded_string.rstrip(',')"
     ],
     "language": "python",
     "metadata": {},
     "outputs": [],
     "prompt_number": 65
    },
    {
     "cell_type": "code",
     "collapsed": false,
     "input": [
      "#print encoded_string\n",
      "#df['PR.Seq.StringVector'] = df['PR Seq']\n",
      "df['PR.Seq.StringVector'] = df['PR Seq']\n",
      "\n"
     ],
     "language": "python",
     "metadata": {},
     "outputs": [],
     "prompt_number": 139
    },
    {
     "cell_type": "code",
     "collapsed": false,
     "input": [
      "for index, row in df.iterrows():\n",
      "    #s = str(row['PR.Seq.StringVector'])\n",
      "\n",
      "    s = str(df.loc[index, 'PR.Seq.StringVector']) \n",
      "    if s != \"nan\":\n",
      "   \n",
      "        \n",
      "        encoded_string=\"\"\n",
      "        \n",
      "        for i,c in enumerate(s): \n",
      "        \n",
      "            letter = c\n",
      "            \n",
      "            try:\n",
      "                encoded_string = encoded_string + str(aa_dictionary[letter]) +','\n",
      "            \n",
      "            except:\n",
      "                print \"index: \" +str(index)+\" row: \"+ str(row) + \" i: \" + str(i) + \"c: \"+ str(c) + \"letter: \" + str(letter)+ \"s: \" +str(s)\n",
      "                raise\n",
      "\n",
      "        encoded_string = encoded_string.rstrip(',')\n",
      "        \n",
      "        df.loc[index, 'PR.Seq.StringVector'] =encoded_string\n"
     ],
     "language": "python",
     "metadata": {},
     "outputs": [],
     "prompt_number": 142
    },
    {
     "cell_type": "code",
     "collapsed": false,
     "input": [
      "\n",
      "df.head(40)\n",
      "df.tail(10)"
     ],
     "language": "python",
     "metadata": {},
     "outputs": [
      {
       "html": [
        "<div style=\"max-height:1000px;max-width:1500px;overflow:auto;\">\n",
        "<table border=\"1\" class=\"dataframe\">\n",
        "  <thead>\n",
        "    <tr style=\"text-align: right;\">\n",
        "      <th></th>\n",
        "      <th>PatientID</th>\n",
        "      <th>Resp</th>\n",
        "      <th>PR Seq</th>\n",
        "      <th>RT Seq</th>\n",
        "      <th>VL-t0</th>\n",
        "      <th>CD4-t0</th>\n",
        "      <th>PR.Seq.StringVector</th>\n",
        "    </tr>\n",
        "  </thead>\n",
        "  <tbody>\n",
        "    <tr>\n",
        "      <th>990</th>\n",
        "      <td>  991</td>\n",
        "      <td> 0</td>\n",
        "      <td> NaN</td>\n",
        "      <td> CCCATTAGTCCTATTGACACTGTACCAGTAAAATTAAAGCCAGGGA...</td>\n",
        "      <td> 4.85</td>\n",
        "      <td> 444</td>\n",
        "      <td> NaN</td>\n",
        "    </tr>\n",
        "    <tr>\n",
        "      <th>991</th>\n",
        "      <td>  992</td>\n",
        "      <td> 0</td>\n",
        "      <td> NaN</td>\n",
        "      <td> CCCATTAGTCCTATTGACACTGTCCCAGTAAAATTAAAGCCAGGAA...</td>\n",
        "      <td> 3.47</td>\n",
        "      <td> 594</td>\n",
        "      <td> NaN</td>\n",
        "    </tr>\n",
        "    <tr>\n",
        "      <th>992</th>\n",
        "      <td>  993</td>\n",
        "      <td> 0</td>\n",
        "      <td> NaN</td>\n",
        "      <td> CCCATTAGTCCTATTGAGACTGTACCAGTAAAACTAAAGCCAGGAA...</td>\n",
        "      <td> 3.15</td>\n",
        "      <td> 439</td>\n",
        "      <td> NaN</td>\n",
        "    </tr>\n",
        "    <tr>\n",
        "      <th>993</th>\n",
        "      <td>  994</td>\n",
        "      <td> 0</td>\n",
        "      <td> NaN</td>\n",
        "      <td> CCCATTAGTCCTATTGAGACTGTACCAGTAAAATTAAAGCCAGGAA...</td>\n",
        "      <td> 2.90</td>\n",
        "      <td> 264</td>\n",
        "      <td> NaN</td>\n",
        "    </tr>\n",
        "    <tr>\n",
        "      <th>994</th>\n",
        "      <td>  995</td>\n",
        "      <td> 0</td>\n",
        "      <td> NaN</td>\n",
        "      <td> CCCATTAGTCCTATTGARACTGTACCAGTAAAATTAAAGCCAGGAA...</td>\n",
        "      <td> 4.15</td>\n",
        "      <td> 165</td>\n",
        "      <td> NaN</td>\n",
        "    </tr>\n",
        "    <tr>\n",
        "      <th>995</th>\n",
        "      <td>  996</td>\n",
        "      <td> 0</td>\n",
        "      <td> NaN</td>\n",
        "      <td> CCCATTAGTCCTATTGARACTGTACCAGTAMAATTAAAGCCAGGAA...</td>\n",
        "      <td> 3.15</td>\n",
        "      <td> 354</td>\n",
        "      <td> NaN</td>\n",
        "    </tr>\n",
        "    <tr>\n",
        "      <th>996</th>\n",
        "      <td>  997</td>\n",
        "      <td> 0</td>\n",
        "      <td> NaN</td>\n",
        "      <td> CCCATYAGTCCTATTGAAACTGTACCAGTAAAATTAAAGCCAGGAA...</td>\n",
        "      <td> 5.50</td>\n",
        "      <td>  50</td>\n",
        "      <td> NaN</td>\n",
        "    </tr>\n",
        "    <tr>\n",
        "      <th>997</th>\n",
        "      <td>  998</td>\n",
        "      <td> 0</td>\n",
        "      <td> NaN</td>\n",
        "      <td> CCCATYAGTCCTATTGAAACTGTACCAGTAAAATTAAAGCCAGGAA...</td>\n",
        "      <td> 4.10</td>\n",
        "      <td> 369</td>\n",
        "      <td> NaN</td>\n",
        "    </tr>\n",
        "    <tr>\n",
        "      <th>998</th>\n",
        "      <td>  999</td>\n",
        "      <td> 0</td>\n",
        "      <td> NaN</td>\n",
        "      <td> CCTATTAGTCCTATTGAAACTGTACCAGTAAAATTAAAGCCAGGAA...</td>\n",
        "      <td> 3.37</td>\n",
        "      <td> 127</td>\n",
        "      <td> NaN</td>\n",
        "    </tr>\n",
        "    <tr>\n",
        "      <th>999</th>\n",
        "      <td> 1000</td>\n",
        "      <td> 0</td>\n",
        "      <td> NaN</td>\n",
        "      <td> CCTATTAGTCCTATTGAAACTGTACCTGTAAAATTAAAGCMAGGAA...</td>\n",
        "      <td> 4.97</td>\n",
        "      <td> 570</td>\n",
        "      <td> NaN</td>\n",
        "    </tr>\n",
        "  </tbody>\n",
        "</table>\n",
        "</div>"
       ],
       "metadata": {},
       "output_type": "pyout",
       "prompt_number": 148,
       "text": [
        "     PatientID  Resp PR Seq  \\\n",
        "990        991     0    NaN   \n",
        "991        992     0    NaN   \n",
        "992        993     0    NaN   \n",
        "993        994     0    NaN   \n",
        "994        995     0    NaN   \n",
        "995        996     0    NaN   \n",
        "996        997     0    NaN   \n",
        "997        998     0    NaN   \n",
        "998        999     0    NaN   \n",
        "999       1000     0    NaN   \n",
        "\n",
        "                                                RT Seq  VL-t0  CD4-t0  \\\n",
        "990  CCCATTAGTCCTATTGACACTGTACCAGTAAAATTAAAGCCAGGGA...   4.85     444   \n",
        "991  CCCATTAGTCCTATTGACACTGTCCCAGTAAAATTAAAGCCAGGAA...   3.47     594   \n",
        "992  CCCATTAGTCCTATTGAGACTGTACCAGTAAAACTAAAGCCAGGAA...   3.15     439   \n",
        "993  CCCATTAGTCCTATTGAGACTGTACCAGTAAAATTAAAGCCAGGAA...   2.90     264   \n",
        "994  CCCATTAGTCCTATTGARACTGTACCAGTAAAATTAAAGCCAGGAA...   4.15     165   \n",
        "995  CCCATTAGTCCTATTGARACTGTACCAGTAMAATTAAAGCCAGGAA...   3.15     354   \n",
        "996  CCCATYAGTCCTATTGAAACTGTACCAGTAAAATTAAAGCCAGGAA...   5.50      50   \n",
        "997  CCCATYAGTCCTATTGAAACTGTACCAGTAAAATTAAAGCCAGGAA...   4.10     369   \n",
        "998  CCTATTAGTCCTATTGAAACTGTACCAGTAAAATTAAAGCCAGGAA...   3.37     127   \n",
        "999  CCTATTAGTCCTATTGAAACTGTACCTGTAAAATTAAAGCMAGGAA...   4.97     570   \n",
        "\n",
        "    PR.Seq.StringVector  \n",
        "990                 NaN  \n",
        "991                 NaN  \n",
        "992                 NaN  \n",
        "993                 NaN  \n",
        "994                 NaN  \n",
        "995                 NaN  \n",
        "996                 NaN  \n",
        "997                 NaN  \n",
        "998                 NaN  \n",
        "999                 NaN  "
       ]
      }
     ],
     "prompt_number": 148
    },
    {
     "cell_type": "code",
     "collapsed": false,
     "input": [
      "#df['PR Seq'][1]\n",
      "df['PR.Seq.StringVector'][921]"
     ],
     "language": "python",
     "metadata": {},
     "outputs": [
      {
       "metadata": {},
       "output_type": "pyout",
       "prompt_number": 147,
       "text": [
        "nan"
       ]
      }
     ],
     "prompt_number": 147
    },
    {
     "cell_type": "code",
     "collapsed": false,
     "input": [],
     "language": "python",
     "metadata": {},
     "outputs": []
    }
   ],
   "metadata": {}
  }
 ]
}