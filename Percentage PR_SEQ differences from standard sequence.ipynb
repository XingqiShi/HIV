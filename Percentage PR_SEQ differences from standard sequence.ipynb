{
 "metadata": {
  "name": "",
  "signature": "sha256:3f9fd2b8472f2e8ae938f37b2f589db89111045b445ff0e3ad54a89c2b2c023d"
 },
 "nbformat": 3,
 "nbformat_minor": 0,
 "worksheets": [
  {
   "cells": [
    {
     "cell_type": "code",
     "collapsed": false,
     "input": [
      "#import some standard libraries\n",
      "\n",
      "import matplotlib.pyplot as plt\n",
      "%matplotlib inline\n",
      "import numpy as np\n",
      "import pandas as pd\n",
      "from pandas import Series, DataFrame\n",
      "from sklearn import datasets, svm\n",
      "from patsy import dmatrices\n",
      "import statsmodels.api as sm\n",
      "from decimal import Decimal\n",
      "%pylab inline\n"
     ],
     "language": "python",
     "metadata": {},
     "outputs": [
      {
       "output_type": "stream",
       "stream": "stdout",
       "text": [
        "Populating the interactive namespace from numpy and matplotlib\n"
       ]
      }
     ],
     "prompt_number": 102
    },
    {
     "cell_type": "code",
     "collapsed": false,
     "input": [
      "#Load the competition test data set into the 'df' variable as an example\n",
      "#Note - Modify your path as appropriate\n",
      "\n",
      "#Windows Path\n",
      "train_converted = pd.read_csv(\"C:\\\\Users\\\\Brandon\\\\Documents\\\\IPython Notebooks\\\\HIV\\\\train_converted_na_removed.csv\")\n",
      "standard_seq = pd.read_csv(\"C:\\\\Users\\\\Brandon\\\\Documents\\\\IPython Notebooks\\\\HIV\\\\Standard_Gene_Sequence.csv\")\n",
      "#OSX Path\n",
      "#df = pd.read_csv(\"/Users/brandon/Dropbox/Kaggle/HIV/training_data.csv\")\n",
      "\n",
      "#create new difference column, give it weird value to make sure it is properly populated\n",
      "train_converted['PR_SEQ_DIFF_FROM_STANDARD'] = Decimal(9.99999)\n"
     ],
     "language": "python",
     "metadata": {},
     "outputs": [],
     "prompt_number": 103
    },
    {
     "cell_type": "code",
     "collapsed": false,
     "input": [
      "#initialize standard_sequence as empty\n",
      "standard_sequence = \"\"\n",
      "\n",
      "#loop through standard sequence codon groups and build string (pr.1-pr.99)\n",
      "for i in range(1,100):\n",
      "    column = \"PR.Seq_\"+str(i)\n",
      "    standard_sequence = standard_sequence + standard_seq[column][0]\n",
      "\n",
      "\n",
      "#for every row in our training set\n",
      "for index,row in train_converted.iterrows():     \n",
      "    \n",
      "    #initialize each patient sequence as empty\n",
      "    patient_sequence = \"\"\n",
      "    \n",
      "    #loop through pr.1-pr.99 columns for each patient and build a string\n",
      "    for i in range(1,100):\n",
      "        column = \"PR.Seq_\"+str(i)\n",
      "        patient_sequence = patient_sequence + str(row[column])\n",
      "\n",
      "\n",
      "#    print patient_sequence\n",
      "#    print standard_sequence\n",
      "\n",
      "    #initialize counter variables as 0\n",
      "    difference_count =0\n",
      "    total_count = 0\n",
      "    same_count = 0\n",
      "    percent_different = Decimal(0.000)\n",
      "\n",
      "    #zip merges the two strings into a aligned set of tuples between each string (truncates to the smallest string!)\n",
      "    u=zip(patient_sequence,standard_sequence)\n",
      "\n",
      "    #compare each letter in the zip object\n",
      "    for i,j in u:\n",
      "        #if same letter increment same counter\n",
      "        if i==j:\n",
      "            same_count=same_count+1\n",
      "            #print i,'--',j\n",
      "        #if diff letter, increment different counter\n",
      "        else:\n",
      "            difference_count=difference_count+1\n",
      "            #print i,'**',j\n",
      "    \n",
      "    total_count = Decimal(same_count) + Decimal(difference_count)\n",
      "    #print total_count\n",
      "    #print difference_count\n",
      "    \n",
      "    #calculate % different from standard\n",
      "    percent_different = Decimal((difference_count) / total_count)\n",
      "    \n",
      "    #populate new column with % diff value\n",
      "    train_converted.loc[index,'PR_SEQ_DIFF_FROM_STANDARD']=percent_different\n",
      "\n",
      "\n"
     ],
     "language": "python",
     "metadata": {},
     "outputs": [],
     "prompt_number": 104
    },
    {
     "cell_type": "code",
     "collapsed": false,
     "input": [
      "train_converted.to_csv(\"C:\\\\Users\\\\Brandon\\\\Documents\\\\IPython Notebooks\\\\HIV\\\\train_converted_na_removed_difference.csv\")"
     ],
     "language": "python",
     "metadata": {},
     "outputs": [],
     "prompt_number": 105
    },
    {
     "cell_type": "code",
     "collapsed": false,
     "input": [
      "7 columns\n",
      "In [ ]:"
     ],
     "language": "python",
     "metadata": {},
     "outputs": []
    }
   ],
   "metadata": {}
  }
 ]
}